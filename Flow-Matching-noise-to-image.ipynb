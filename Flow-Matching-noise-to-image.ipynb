{
 "cells": [
  {
   "cell_type": "code",
   "execution_count": 1,
   "id": "d1ff18b6",
   "metadata": {
    "_kg_hide-output": true,
    "execution": {
     "iopub.execute_input": "2024-05-03T12:52:41.011126Z",
     "iopub.status.busy": "2024-05-03T12:52:41.010744Z",
     "iopub.status.idle": "2024-05-03T12:53:19.313240Z",
     "shell.execute_reply": "2024-05-03T12:53:19.312008Z"
    },
    "papermill": {
     "duration": 38.310742,
     "end_time": "2024-05-03T12:53:19.315506",
     "exception": false,
     "start_time": "2024-05-03T12:52:41.004764",
     "status": "completed"
    },
    "tags": []
   },
   "outputs": [
    {
     "name": "stdout",
     "output_type": "stream",
     "text": [
      "\u001b[31mERROR: pip's dependency resolver does not currently take into account all the packages that are installed. This behaviour is the source of the following dependency conflicts.\r\n",
      "cudf 23.8.0 requires cubinlinker, which is not installed.\r\n",
      "cudf 23.8.0 requires cupy-cuda11x>=12.0.0, which is not installed.\r\n",
      "cudf 23.8.0 requires ptxcompiler, which is not installed.\r\n",
      "cuml 23.8.0 requires cupy-cuda11x>=12.0.0, which is not installed.\r\n",
      "dask-cudf 23.8.0 requires cupy-cuda11x>=12.0.0, which is not installed.\r\n",
      "tensorflow-decision-forests 1.8.1 requires wurlitzer, which is not installed.\r\n",
      "beatrix-jupyterlab 2023.128.151533 requires jupyterlab~=3.6.0, but you have jupyterlab 4.1.6 which is incompatible.\r\n",
      "cudf 23.8.0 requires cuda-python<12.0a0,>=11.7.1, but you have cuda-python 12.4.0 which is incompatible.\r\n",
      "cudf 23.8.0 requires pandas<1.6.0dev0,>=1.3, but you have pandas 2.0.3 which is incompatible.\r\n",
      "cudf 23.8.0 requires protobuf<5,>=4.21, but you have protobuf 3.20.3 which is incompatible.\r\n",
      "cudf 23.8.0 requires pyarrow==11.*, but you have pyarrow 15.0.2 which is incompatible.\r\n",
      "cuml 23.8.0 requires dask==2023.7.1, but you have dask 2024.4.1 which is incompatible.\r\n",
      "dask-cuda 23.8.0 requires dask==2023.7.1, but you have dask 2024.4.1 which is incompatible.\r\n",
      "dask-cuda 23.8.0 requires pandas<1.6.0dev0,>=1.3, but you have pandas 2.0.3 which is incompatible.\r\n",
      "dask-cudf 23.8.0 requires dask==2023.7.1, but you have dask 2024.4.1 which is incompatible.\r\n",
      "dask-cudf 23.8.0 requires pandas<1.6.0dev0,>=1.3, but you have pandas 2.0.3 which is incompatible.\r\n",
      "libpysal 4.9.2 requires packaging>=22, but you have packaging 21.3 which is incompatible.\r\n",
      "libpysal 4.9.2 requires shapely>=2.0.1, but you have shapely 1.8.5.post1 which is incompatible.\r\n",
      "mizani 0.11.1 requires pandas>=2.1.0, but you have pandas 2.0.3 which is incompatible.\r\n",
      "momepy 0.7.0 requires shapely>=2, but you have shapely 1.8.5.post1 which is incompatible.\r\n",
      "osmnx 1.9.2 requires shapely>=2.0, but you have shapely 1.8.5.post1 which is incompatible.\r\n",
      "plotnine 0.13.4 requires pandas<3.0.0,>=2.1.0, but you have pandas 2.0.3 which is incompatible.\r\n",
      "raft-dask 23.8.0 requires dask==2023.7.1, but you have dask 2024.4.1 which is incompatible.\r\n",
      "spopt 0.6.0 requires shapely>=2.0.1, but you have shapely 1.8.5.post1 which is incompatible.\r\n",
      "xarray 2024.3.0 requires packaging>=22, but you have packaging 21.3 which is incompatible.\r\n",
      "ydata-profiling 4.6.4 requires numpy<1.26,>=1.16.0, but you have numpy 1.26.4 which is incompatible.\r\n",
      "ydata-profiling 4.6.4 requires seaborn<0.13,>=0.10.1, but you have seaborn 0.13.2 which is incompatible.\u001b[0m\u001b[31m\r\n",
      "\u001b[0m"
     ]
    }
   ],
   "source": [
    "! pip install -q torchcfm torchdyn"
   ]
  },
  {
   "cell_type": "code",
   "execution_count": 2,
   "id": "9a2cfdfb",
   "metadata": {
    "_cell_guid": "b1076dfc-b9ad-4769-8c92-a6c4dae69d19",
    "_uuid": "8f2839f25d086af736a60e9eeb907d3b93b6e0e5",
    "execution": {
     "iopub.execute_input": "2024-05-03T12:53:19.325623Z",
     "iopub.status.busy": "2024-05-03T12:53:19.324851Z",
     "iopub.status.idle": "2024-05-03T12:53:42.430081Z",
     "shell.execute_reply": "2024-05-03T12:53:42.429241Z"
    },
    "papermill": {
     "duration": 23.112964,
     "end_time": "2024-05-03T12:53:42.432625",
     "exception": false,
     "start_time": "2024-05-03T12:53:19.319661",
     "status": "completed"
    },
    "tags": []
   },
   "outputs": [
    {
     "name": "stderr",
     "output_type": "stream",
     "text": [
      "2024-05-03 12:53:27.685479: E external/local_xla/xla/stream_executor/cuda/cuda_dnn.cc:9261] Unable to register cuDNN factory: Attempting to register factory for plugin cuDNN when one has already been registered\n",
      "2024-05-03 12:53:27.685576: E external/local_xla/xla/stream_executor/cuda/cuda_fft.cc:607] Unable to register cuFFT factory: Attempting to register factory for plugin cuFFT when one has already been registered\n",
      "2024-05-03 12:53:27.814149: E external/local_xla/xla/stream_executor/cuda/cuda_blas.cc:1515] Unable to register cuBLAS factory: Attempting to register factory for plugin cuBLAS when one has already been registered\n"
     ]
    }
   ],
   "source": [
    "import torch\n",
    "import torch.nn as nn\n",
    "import torch.nn.functional as F\n",
    "import pandas as pd\n",
    "import matplotlib.pyplot as plt\n",
    "\n",
    "from torch.utils.data import TensorDataset, DataLoader\n",
    "from torchcfm.models.unet import UNetModel\n",
    "from torchcfm import ConditionalFlowMatcher\n",
    "from torchdyn.core import NeuralODE\n",
    "from tqdm.auto import tqdm\n",
    "from torchvision.utils import make_grid\n",
    "from torchvision.transforms import ToPILImage"
   ]
  },
  {
   "cell_type": "code",
   "execution_count": 3,
   "id": "8c009f27",
   "metadata": {
    "execution": {
     "iopub.execute_input": "2024-05-03T12:53:42.441886Z",
     "iopub.status.busy": "2024-05-03T12:53:42.441593Z",
     "iopub.status.idle": "2024-05-03T12:53:46.371624Z",
     "shell.execute_reply": "2024-05-03T12:53:46.370154Z"
    },
    "papermill": {
     "duration": 3.937908,
     "end_time": "2024-05-03T12:53:46.374761",
     "exception": false,
     "start_time": "2024-05-03T12:53:42.436853",
     "status": "completed"
    },
    "tags": []
   },
   "outputs": [],
   "source": [
    "train_df = pd.read_csv(\"/kaggle/input/digit-recognizer/train.csv\")\n",
    "train_df.drop(\"label\", axis=1, inplace=True)\n",
    "\n",
    "train_data = train_df.values"
   ]
  },
  {
   "cell_type": "code",
   "execution_count": 4,
   "id": "66aac700",
   "metadata": {
    "execution": {
     "iopub.execute_input": "2024-05-03T12:53:46.388208Z",
     "iopub.status.busy": "2024-05-03T12:53:46.387771Z",
     "iopub.status.idle": "2024-05-03T12:53:46.693157Z",
     "shell.execute_reply": "2024-05-03T12:53:46.692124Z"
    },
    "papermill": {
     "duration": 0.314576,
     "end_time": "2024-05-03T12:53:46.695687",
     "exception": false,
     "start_time": "2024-05-03T12:53:46.381111",
     "status": "completed"
    },
    "tags": []
   },
   "outputs": [],
   "source": [
    "train_data = train_data / 255\n",
    "train_data = (train_data - 0.5) / 0.5\n",
    "train_data = torch.tensor(train_data, dtype=torch.float32)\n",
    "train_data = train_data.reshape(-1, 1, 28, 28)"
   ]
  },
  {
   "cell_type": "code",
   "execution_count": 5,
   "id": "507241fb",
   "metadata": {
    "execution": {
     "iopub.execute_input": "2024-05-03T12:53:46.705958Z",
     "iopub.status.busy": "2024-05-03T12:53:46.705652Z",
     "iopub.status.idle": "2024-05-03T12:53:46.710166Z",
     "shell.execute_reply": "2024-05-03T12:53:46.709340Z"
    },
    "papermill": {
     "duration": 0.011686,
     "end_time": "2024-05-03T12:53:46.712053",
     "exception": false,
     "start_time": "2024-05-03T12:53:46.700367",
     "status": "completed"
    },
    "tags": []
   },
   "outputs": [],
   "source": [
    "trainset = TensorDataset(train_data)\n",
    "train_loader = DataLoader(trainset, batch_size=128, shuffle=True)"
   ]
  },
  {
   "cell_type": "code",
   "execution_count": 6,
   "id": "751bd62b",
   "metadata": {
    "execution": {
     "iopub.execute_input": "2024-05-03T12:53:46.721231Z",
     "iopub.status.busy": "2024-05-03T12:53:46.720637Z",
     "iopub.status.idle": "2024-05-03T12:53:46.996061Z",
     "shell.execute_reply": "2024-05-03T12:53:46.995058Z"
    },
    "papermill": {
     "duration": 0.282537,
     "end_time": "2024-05-03T12:53:46.998423",
     "exception": false,
     "start_time": "2024-05-03T12:53:46.715886",
     "status": "completed"
    },
    "tags": []
   },
   "outputs": [],
   "source": [
    "device = \"cuda\" if torch.cuda.is_available() else \"cpu\"\n",
    "model = UNetModel(dim=(1, 28, 28), num_channels=32, num_res_blocks=1).to(device)\n",
    "optimizer = torch.optim.Adam(model.parameters())\n",
    "FM = ConditionalFlowMatcher(sigma=0.0)"
   ]
  },
  {
   "cell_type": "code",
   "execution_count": 7,
   "id": "e847f5cf",
   "metadata": {
    "execution": {
     "iopub.execute_input": "2024-05-03T12:53:47.008357Z",
     "iopub.status.busy": "2024-05-03T12:53:47.007952Z",
     "iopub.status.idle": "2024-05-03T12:57:25.071387Z",
     "shell.execute_reply": "2024-05-03T12:57:25.070345Z"
    },
    "papermill": {
     "duration": 218.071224,
     "end_time": "2024-05-03T12:57:25.073836",
     "exception": false,
     "start_time": "2024-05-03T12:53:47.002612",
     "status": "completed"
    },
    "tags": []
   },
   "outputs": [
    {
     "data": {
      "application/vnd.jupyter.widget-view+json": {
       "model_id": "53408892ba42439983a9a58420c535c0",
       "version_major": 2,
       "version_minor": 0
      },
      "text/plain": [
       "  0%|          | 0/1645 [00:00<?, ?it/s]"
      ]
     },
     "metadata": {},
     "output_type": "display_data"
    }
   ],
   "source": [
    "num_epochs = 5\n",
    "num_steps = num_epochs * len(train_loader)\n",
    "\n",
    "pbar = tqdm(total=num_steps)\n",
    "losses = []\n",
    "\n",
    "for epoch in range(num_epochs):\n",
    "    for (data,) in train_loader:\n",
    "        x1 = data.to(device)\n",
    "        x0 = torch.randn_like(x1)\n",
    "        \n",
    "        t, xt, ut = FM.sample_location_and_conditional_flow(x0, x1)\n",
    "        vt = model(t, xt)\n",
    "        \n",
    "        loss = F.mse_loss(vt, ut)\n",
    "        loss.backward()\n",
    "        optimizer.step()\n",
    "        optimizer.zero_grad()\n",
    "        \n",
    "        losses.append(loss.item())\n",
    "        pbar.update()\n",
    "        \n",
    "pbar.close()"
   ]
  },
  {
   "cell_type": "code",
   "execution_count": 8,
   "id": "0004ff8c",
   "metadata": {
    "execution": {
     "iopub.execute_input": "2024-05-03T12:57:25.084330Z",
     "iopub.status.busy": "2024-05-03T12:57:25.083385Z",
     "iopub.status.idle": "2024-05-03T12:57:25.363069Z",
     "shell.execute_reply": "2024-05-03T12:57:25.362143Z"
    },
    "papermill": {
     "duration": 0.287024,
     "end_time": "2024-05-03T12:57:25.365279",
     "exception": false,
     "start_time": "2024-05-03T12:57:25.078255",
     "status": "completed"
    },
    "tags": []
   },
   "outputs": [
    {
     "data": {
      "image/png": "[encoded data removed]",
      "text/plain": [
       "<Figure size 640x480 with 1 Axes>"
      ]
     },
     "metadata": {},
     "output_type": "display_data"
    }
   ],
   "source": [
    "plt.plot(losses)\n",
    "plt.xlabel(\"Steps\")\n",
    "plt.ylabel(\"Loss\")\n",
    "plt.show()"
   ]
  },
  {
   "cell_type": "code",
   "execution_count": 9,
   "id": "979b180c",
   "metadata": {
    "execution": {
     "iopub.execute_input": "2024-05-03T12:57:25.375681Z",
     "iopub.status.busy": "2024-05-03T12:57:25.375374Z",
     "iopub.status.idle": "2024-05-03T12:57:25.388160Z",
     "shell.execute_reply": "2024-05-03T12:57:25.387349Z"
    },
    "papermill": {
     "duration": 0.020156,
     "end_time": "2024-05-03T12:57:25.390043",
     "exception": false,
     "start_time": "2024-05-03T12:57:25.369887",
     "status": "completed"
    },
    "tags": []
   },
   "outputs": [],
   "source": [
    "solver = NeuralODE(model, sensitivity='adjoint', solver='dopri5').to(device)"
   ]
  },
  {
   "cell_type": "code",
   "execution_count": 10,
   "id": "d9192ffe",
   "metadata": {
    "execution": {
     "iopub.execute_input": "2024-05-03T12:57:25.400248Z",
     "iopub.status.busy": "2024-05-03T12:57:25.399975Z",
     "iopub.status.idle": "2024-05-03T12:57:36.268115Z",
     "shell.execute_reply": "2024-05-03T12:57:36.267196Z"
    },
    "papermill": {
     "duration": 10.875999,
     "end_time": "2024-05-03T12:57:36.270698",
     "exception": false,
     "start_time": "2024-05-03T12:57:25.394699",
     "status": "completed"
    },
    "tags": []
   },
   "outputs": [
    {
     "data": {
      "image/png": "[encoded data removed]",
      "text/plain": [
       "<PIL.Image.Image image mode=RGB size=242x242>"
      ]
     },
     "execution_count": 10,
     "metadata": {},
     "output_type": "execute_result"
    }
   ],
   "source": [
    "num_samples = 64\n",
    "nfe = 100\n",
    "t_span = torch.linspace(0, 1, nfe)\n",
    "\n",
    "x0 = torch.randn(num_samples, 1, 28, 28, device=device)\n",
    "\n",
    "with torch.no_grad():\n",
    "    t_eval, trajectory = solver(x0, t_span)\n",
    "    \n",
    "x1 = trajectory[-1]\n",
    "x1 = torch.clamp(x1, min=-1., max=1.)\n",
    "\n",
    "ToPILImage()(make_grid(x1, nrow=8))"
   ]
  },
  {
   "cell_type": "markdown",
   "id": "d202e232",
   "metadata": {
    "papermill": {
     "duration": 0.005081,
     "end_time": "2024-05-03T12:57:36.282841",
     "exception": false,
     "start_time": "2024-05-03T12:57:36.277760",
     "status": "completed"
    },
    "tags": []
   },
   "source": [
    "## To-DO\n",
    "\n",
    "- [ ] Evaluate sample generation qualitiy (e.g. NLL, FID)"
   ]
  }
 ],
 "metadata": {
  "kaggle": {
   "accelerator": "gpu",
   "dataSources": [
    {
     "databundleVersionId": 861823,
     "sourceId": 3004,
     "sourceType": "competition"
    }
   ],
   "dockerImageVersionId": 30699,
   "isGpuEnabled": true,
   "isInternetEnabled": true,
   "language": "python",
   "sourceType": "notebook"
  },
  "kernelspec": {
   "display_name": "Python 3",
   "language": "python",
   "name": "python3"
  },
  "language_info": {
   "codemirror_mode": {
    "name": "ipython",
    "version": 3
   },
   "file_extension": ".py",
   "mimetype": "text/x-python",
   "name": "python",
   "nbconvert_exporter": "python",
   "pygments_lexer": "ipython3",
   "version": "3.10.13"
  },
  "papermill": {
   "default_parameters": {},
   "duration": 301.365171,
   "end_time": "2024-05-03T12:57:39.416749",
   "environment_variables": {},
   "exception": null,
   "input_path": "__notebook__.ipynb",
   "output_path": "__notebook__.ipynb",
   "parameters": {},
   "start_time": "2024-05-03T12:52:38.051578",
   "version": "2.5.0"
  },
  "widgets": {
   "application/vnd.jupyter.widget-state+json": {
    "state": {
     "10d7b52c103c42d788d19ce43a547d78": {
      "model_module": "@jupyter-widgets/controls",
      "model_module_version": "1.5.0",
      "model_name": "FloatProgressModel",
      "state": {
       "_dom_classes": [],
       "_model_module": "@jupyter-widgets/controls",
       "_model_module_version": "1.5.0",
       "_model_name": "FloatProgressModel",
       "_view_count": null,
       "_view_module": "@jupyter-widgets/controls",
       "_view_module_version": "1.5.0",
       "_view_name": "ProgressView",
       "bar_style": "success",
       "description": "",
       "description_tooltip": null,
       "layout": "IPY_MODEL_4e10cc24ffbe455f8db0cd2c4ef2cc1e",
       "max": 1645.0,
       "min": 0.0,
       "orientation": "horizontal",
       "style": "IPY_MODEL_8573ed50e83345c8b58cce9e7e54492b",
       "value": 1645.0
      }
     },
     "3e0ecd99d4d448b9b17b99fb920f2794": {
      "model_module": "@jupyter-widgets/controls",
      "model_module_version": "1.5.0",
      "model_name": "DescriptionStyleModel",
      "state": {
       "_model_module": "@jupyter-widgets/controls",
       "_model_module_version": "1.5.0",
       "_model_name": "DescriptionStyleModel",
       "_view_count": null,
       "_view_module": "@jupyter-widgets/base",
       "_view_module_version": "1.2.0",
       "_view_name": "StyleView",
       "description_width": ""
      }
     },
     "4e10cc24ffbe455f8db0cd2c4ef2cc1e": {
      "model_module": "@jupyter-widgets/base",
      "model_module_version": "1.2.0",
      "model_name": "LayoutModel",
      "state": {
       "_model_module": "@jupyter-widgets/base",
       "_model_module_version": "1.2.0",
       "_model_name": "LayoutModel",
       "_view_count": null,
       "_view_module": "@jupyter-widgets/base",
       "_view_module_version": "1.2.0",
       "_view_name": "LayoutView",
       "align_content": null,
       "align_items": null,
       "align_self": null,
       "border": null,
       "bottom": null,
       "display": null,
       "flex": null,
       "flex_flow": null,
       "grid_area": null,
       "grid_auto_columns": null,
       "grid_auto_flow": null,
       "grid_auto_rows": null,
       "grid_column": null,
       "grid_gap": null,
       "grid_row": null,
       "grid_template_areas": null,
       "grid_template_columns": null,
       "grid_template_rows": null,
       "height": null,
       "justify_content": null,
       "justify_items": null,
       "left": null,
       "margin": null,
       "max_height": null,
       "max_width": null,
       "min_height": null,
       "min_width": null,
       "object_fit": null,
       "object_position": null,
       "order": null,
       "overflow": null,
       "overflow_x": null,
       "overflow_y": null,
       "padding": null,
       "right": null,
       "top": null,
       "visibility": null,
       "width": null
      }
     },
     "53408892ba42439983a9a58420c535c0": {
      "model_module": "@jupyter-widgets/controls",
      "model_module_version": "1.5.0",
      "model_name": "HBoxModel",
      "state": {
       "_dom_classes": [],
       "_model_module": "@jupyter-widgets/controls",
       "_model_module_version": "1.5.0",
       "_model_name": "HBoxModel",
       "_view_count": null,
       "_view_module": "@jupyter-widgets/controls",
       "_view_module_version": "1.5.0",
       "_view_name": "HBoxView",
       "box_style": "",
       "children": [
        "IPY_MODEL_55dfbdb6c1614a738646438df901a7b4",
        "IPY_MODEL_10d7b52c103c42d788d19ce43a547d78",
        "IPY_MODEL_d411284876ff45f9b7d270577542d082"
       ],
       "layout": "IPY_MODEL_74d5623e487742e8832e6793f72b0b73"
      }
     },
     "55dfbdb6c1614a738646438df901a7b4": {
      "model_module": "@jupyter-widgets/controls",
      "model_module_version": "1.5.0",
      "model_name": "HTMLModel",
      "state": {
       "_dom_classes": [],
       "_model_module": "@jupyter-widgets/controls",
       "_model_module_version": "1.5.0",
       "_model_name": "HTMLModel",
       "_view_count": null,
       "_view_module": "@jupyter-widgets/controls",
       "_view_module_version": "1.5.0",
       "_view_name": "HTMLView",
       "description": "",
       "description_tooltip": null,
       "layout": "IPY_MODEL_7eaf1fb314c64d7f9d9b4a71c6623197",
       "placeholder": "​",
       "style": "IPY_MODEL_591ba631d4014d40bea0a82b27d1509f",
       "value": "100%"
      }
     },
     "591ba631d4014d40bea0a82b27d1509f": {
      "model_module": "@jupyter-widgets/controls",
      "model_module_version": "1.5.0",
      "model_name": "DescriptionStyleModel",
      "state": {
       "_model_module": "@jupyter-widgets/controls",
       "_model_module_version": "1.5.0",
       "_model_name": "DescriptionStyleModel",
       "_view_count": null,
       "_view_module": "@jupyter-widgets/base",
       "_view_module_version": "1.2.0",
       "_view_name": "StyleView",
       "description_width": ""
      }
     },
     "74d5623e487742e8832e6793f72b0b73": {
      "model_module": "@jupyter-widgets/base",
      "model_module_version": "1.2.0",
      "model_name": "LayoutModel",
      "state": {
       "_model_module": "@jupyter-widgets/base",
       "_model_module_version": "1.2.0",
       "_model_name": "LayoutModel",
       "_view_count": null,
       "_view_module": "@jupyter-widgets/base",
       "_view_module_version": "1.2.0",
       "_view_name": "LayoutView",
       "align_content": null,
       "align_items": null,
       "align_self": null,
       "border": null,
       "bottom": null,
       "display": null,
       "flex": null,
       "flex_flow": null,
       "grid_area": null,
       "grid_auto_columns": null,
       "grid_auto_flow": null,
       "grid_auto_rows": null,
       "grid_column": null,
       "grid_gap": null,
       "grid_row": null,
       "grid_template_areas": null,
       "grid_template_columns": null,
       "grid_template_rows": null,
       "height": null,
       "justify_content": null,
       "justify_items": null,
       "left": null,
       "margin": null,
       "max_height": null,
       "max_width": null,
       "min_height": null,
       "min_width": null,
       "object_fit": null,
       "object_position": null,
       "order": null,
       "overflow": null,
       "overflow_x": null,
       "overflow_y": null,
       "padding": null,
       "right": null,
       "top": null,
       "visibility": null,
       "width": null
      }
     },
     "7eaf1fb314c64d7f9d9b4a71c6623197": {
      "model_module": "@jupyter-widgets/base",
      "model_module_version": "1.2.0",
      "model_name": "LayoutModel",
      "state": {
       "_model_module": "@jupyter-widgets/base",
       "_model_module_version": "1.2.0",
       "_model_name": "LayoutModel",
       "_view_count": null,
       "_view_module": "@jupyter-widgets/base",
       "_view_module_version": "1.2.0",
       "_view_name": "LayoutView",
       "align_content": null,
       "align_items": null,
       "align_self": null,
       "border": null,
       "bottom": null,
       "display": null,
       "flex": null,
       "flex_flow": null,
       "grid_area": null,
       "grid_auto_columns": null,
       "grid_auto_flow": null,
       "grid_auto_rows": null,
       "grid_column": null,
       "grid_gap": null,
       "grid_row": null,
       "grid_template_areas": null,
       "grid_template_columns": null,
       "grid_template_rows": null,
       "height": null,
       "justify_content": null,
       "justify_items": null,
       "left": null,
       "margin": null,
       "max_height": null,
       "max_width": null,
       "min_height": null,
       "min_width": null,
       "object_fit": null,
       "object_position": null,
       "order": null,
       "overflow": null,
       "overflow_x": null,
       "overflow_y": null,
       "padding": null,
       "right": null,
       "top": null,
       "visibility": null,
       "width": null
      }
     },
     "8573ed50e83345c8b58cce9e7e54492b": {
      "model_module": "@jupyter-widgets/controls",
      "model_module_version": "1.5.0",
      "model_name": "ProgressStyleModel",
      "state": {
       "_model_module": "@jupyter-widgets/controls",
       "_model_module_version": "1.5.0",
       "_model_name": "ProgressStyleModel",
       "_view_count": null,
       "_view_module": "@jupyter-widgets/base",
       "_view_module_version": "1.2.0",
       "_view_name": "StyleView",
       "bar_color": null,
       "description_width": ""
      }
     },
     "8dcc5058bfbb4fc7846cd60da2991219": {
      "model_module": "@jupyter-widgets/base",
      "model_module_version": "1.2.0",
      "model_name": "LayoutModel",
      "state": {
       "_model_module": "@jupyter-widgets/base",
       "_model_module_version": "1.2.0",
       "_model_name": "LayoutModel",
       "_view_count": null,
       "_view_module": "@jupyter-widgets/base",
       "_view_module_version": "1.2.0",
       "_view_name": "LayoutView",
       "align_content": null,
       "align_items": null,
       "align_self": null,
       "border": null,
       "bottom": null,
       "display": null,
       "flex": null,
       "flex_flow": null,
       "grid_area": null,
       "grid_auto_columns": null,
       "grid_auto_flow": null,
       "grid_auto_rows": null,
       "grid_column": null,
       "grid_gap": null,
       "grid_row": null,
       "grid_template_areas": null,
       "grid_template_columns": null,
       "grid_template_rows": null,
       "height": null,
       "justify_content": null,
       "justify_items": null,
       "left": null,
       "margin": null,
       "max_height": null,
       "max_width": null,
       "min_height": null,
       "min_width": null,
       "object_fit": null,
       "object_position": null,
       "order": null,
       "overflow": null,
       "overflow_x": null,
       "overflow_y": null,
       "padding": null,
       "right": null,
       "top": null,
       "visibility": null,
       "width": null
      }
     },
     "d411284876ff45f9b7d270577542d082": {
      "model_module": "@jupyter-widgets/controls",
      "model_module_version": "1.5.0",
      "model_name": "HTMLModel",
      "state": {
       "_dom_classes": [],
       "_model_module": "@jupyter-widgets/controls",
       "_model_module_version": "1.5.0",
       "_model_name": "HTMLModel",
       "_view_count": null,
       "_view_module": "@jupyter-widgets/controls",
       "_view_module_version": "1.5.0",
       "_view_name": "HTMLView",
       "description": "",
       "description_tooltip": null,
       "layout": "IPY_MODEL_8dcc5058bfbb4fc7846cd60da2991219",
       "placeholder": "​",
       "style": "IPY_MODEL_3e0ecd99d4d448b9b17b99fb920f2794",
       "value": " 1645/1645 [03:38&lt;00:00,  7.60it/s]"
      }
     }
    },
    "version_major": 2,
    "version_minor": 0
   }
  }
 },
 "nbformat": 4,
 "nbformat_minor": 5
}
